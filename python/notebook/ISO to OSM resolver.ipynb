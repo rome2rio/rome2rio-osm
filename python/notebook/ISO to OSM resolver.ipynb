{
 "metadata": {
  "name": ""
 },
 "nbformat": 3,
 "nbformat_minor": 0,
 "worksheets": [
  {
   "cells": [
    {
     "cell_type": "markdown",
     "metadata": {},
     "source": [
      "This notebook provides code for resolving ISO countries and regions in OSM.\n",
      "\n",
      "An HTML layout of the ISO data will be presented, and if available in OSM links will be provided.\n",
      "\n",
      "A format compatible with the OSM rules file (see LocationScraper tool) will also be presented. This matches up the OSM relation id with relevant parent regions and ISO codes."
     ]
    },
    {
     "cell_type": "code",
     "collapsed": false,
     "input": [
      "import pycountry\n",
      "import urllib\n",
      "import osmapi\n",
      "import json\n",
      "import pprint\n",
      "from IPython import display\n",
      "import unicodedata\n",
      "\n",
      "class HTML(str):\n",
      "    def _repr_html_(self):\n",
      "        return self\n",
      "    \n",
      "api = osmapi.OsmApi()"
     ],
     "language": "python",
     "metadata": {},
     "outputs": [],
     "prompt_number": 9
    },
    {
     "cell_type": "markdown",
     "metadata": {},
     "source": [
      "The next cell is the OSM search function. Use this to search OSM for:\n",
      "1. a country ;\n",
      "2. a region ; or\n",
      "3. a region in a country (provide both arguments).\n",
      "\n",
      "Use the blacklist parameter to provide a custom list of relation ids to ignore. The \"global blacklist\" is always used."
     ]
    },
    {
     "cell_type": "code",
     "collapsed": false,
     "input": [
      "# NEVER consider these relations!\n",
      "global_blacklist = {2697711, 2220322}\n",
      "\n",
      "def osm_search(region=None, country=None, attempt=1, blacklist=None):\n",
      "    if blacklist is None:\n",
      "        blacklist = []\n",
      "    blacklist.extend(global_blacklist)\n",
      "    if region is not None and isinstance(region, basestring):\n",
      "        region = [region]\n",
      "        \n",
      "    if region is None and country is None:\n",
      "        raise Exception(\"At least a region or country\")\n",
      "    elif region is not None and country is not None:\n",
      "        search_terms = [r + \", \" + country for r in region]\n",
      "    elif region is not None:\n",
      "        search_terms = region\n",
      "    else:\n",
      "        search_terms = [country]\n",
      "    for search_term in search_terms:\n",
      "        print \"Searching for '%s'\" % search_term\n",
      "        encoded = urllib.quote_plus(search_term.encode(\"utf8\"))\n",
      "        try:\n",
      "            data = json.loads(urllib.urlopen(\"http://nominatim.openstreetmap.org/?format=json&q=%s&addressdetails=1\" % encoded).read())\n",
      "        except IOError:\n",
      "            if attempt == 5:\n",
      "                print \"I/O error after 5 retries - bailing out\"\n",
      "                return None\n",
      "            print \"I/O error - trying again..\"\n",
      "            return osm_search(region, country, attempt+1)\n",
      "        for entry in data:\n",
      "            if 'osm_type' not in entry:\n",
      "                pprint.pprint(entry)\n",
      "                continue\n",
      "            if entry['osm_type'] == 'relation' and int(entry['osm_id']) not in blacklist:\n",
      "                return api.RelationGet(entry['osm_id'])\n",
      "    return None"
     ],
     "language": "python",
     "metadata": {},
     "outputs": [],
     "prompt_number": 10
    },
    {
     "cell_type": "markdown",
     "metadata": {},
     "source": [
      "The ``Region`` class represents a country subdivision in ISO 3166-2. If there is OSM data associated with this region, the ``relation`` member will be populated."
     ]
    },
    {
     "cell_type": "code",
     "collapsed": false,
     "input": [
      "class Region:\n",
      "    def __init__(self, iso, relation):\n",
      "        self.iso = iso\n",
      "        self.relation = relation\n",
      "        self.children = []\n",
      "        \n",
      "    def _repr_html_(self):\n",
      "        s = \"<li>\"\n",
      "        if self.relation is None:\n",
      "            s += '%s <small>(not found)</small>' % (self.iso.name)\n",
      "        else:\n",
      "            s += '<a href=\"http://www.openstreetmap.org/relation/%s\">%s</a> <small>(%s)</small>' % (self.relation['id'], self.iso.name, self.relation['id'])\n",
      "        s += \"</li>\"\n",
      "        if self.children:\n",
      "            s += \"<ul>\"\n",
      "            for child in self.children:\n",
      "                s += child._repr_html_()\n",
      "            s += \"</ul>\"\n",
      "        return s\n",
      "    \n",
      "    def print_rules(self, parent=None):\n",
      "        if self.children:\n",
      "            print \"## %s\" % self.iso.name\n",
      "            \n",
      "        if self.relation is None:\n",
      "            name = self.iso.name + \" (not found in OSM)\"\n",
      "            relation_id = \"???????\"\n",
      "            line = \"#\"\n",
      "        else:\n",
      "            tag = self.relation['tag']\n",
      "            if 'name:en' in tag:\n",
      "                name = tag['name:en']\n",
      "            else:\n",
      "                name = tag['name']\n",
      "            if name.lower() != self.iso.name.lower():\n",
      "                name = \"%s (%s)\" % (name, self.iso.name)\n",
      "            relation_id = self.relation['id']\n",
      "            line = \"\"\n",
      "        \n",
      "        if parent is not None and parent.relation is not None:\n",
      "            line += \"tag-adopt : %-7s : %-7s : %-6s : %s\" % (relation_id, parent.relation['id'], self.iso.code, name)\n",
      "        else:\n",
      "            line += \"tag       : %-7s :         : %-6s : %s\" % (relation_id, self.iso.code, name)\n",
      "        print line\n",
      "        \n",
      "        for child in self.children:\n",
      "            child.print_rules(parent=self)\n",
      "        \n",
      "        if self.children:\n",
      "            print \"\""
     ],
     "language": "python",
     "metadata": {},
     "outputs": [],
     "prompt_number": 11
    },
    {
     "cell_type": "markdown",
     "metadata": {},
     "source": [
      "The ``Country`` class represents a country in ISO 3166-1. If there is OSM data associated with this country, the ``relation`` member will be populated."
     ]
    },
    {
     "cell_type": "code",
     "collapsed": false,
     "input": [
      "# represents an ISO country\n",
      "# if OSM data is available, the relation member will be populated\n",
      "class Country:\n",
      "    def __init__(self, iso, relation, name_override=None):\n",
      "        self.iso = iso\n",
      "        self.relation = relation\n",
      "        self.regions = []\n",
      "        self.name = name_override or self.iso.official_name\n",
      "        \n",
      "    def _repr_html_(self):\n",
      "        s = '<h2><a href=\"http://www.openstreetmap.org/relation/%s\">%s</a> <small>(%s) [<a href=\"http://iso.org/obp/ui/#iso:code:3166:%s\">%s</a>]</small></h2>' % (self.relation['id'], self.name, self.relation['id'], self.iso.alpha2, self.iso.alpha2)\n",
      "        s += \"<ul>%s</ul>\" % \"\".join(r._repr_html_() for r in self.regions)\n",
      "        return s\n",
      "    \n",
      "    def print_rules(self):\n",
      "        print \"#### %s (%s)\" % (self.name, self.iso.alpha2.upper())\n",
      "        for region in self.regions:\n",
      "            region.print_rules()"
     ],
     "language": "python",
     "metadata": {},
     "outputs": [],
     "prompt_number": 12
    },
    {
     "cell_type": "markdown",
     "metadata": {},
     "source": [
      "These classes represent a country and region in ISO (as opposed to in OSM)."
     ]
    },
    {
     "cell_type": "code",
     "collapsed": false,
     "input": [
      "class ISOSubdivision:\n",
      "    def __init__(self, name, code, parent_code=None):\n",
      "        self.name = name\n",
      "        self.code = code\n",
      "        self.parent_code = parent_code\n",
      "\n",
      "class ISOCountry:\n",
      "    def __init__(self, alpha2code, name=None, official_name=None):\n",
      "        if name is None and official_name is None:\n",
      "            country = pycountry.countries.get(alpha2=alpha2code)\n",
      "            try:\n",
      "                name = country.name\n",
      "            except AttributeError:\n",
      "                pass\n",
      "            try:\n",
      "                official_name = country.official_name\n",
      "            except AttributeError:\n",
      "                pass\n",
      "        self.alpha2 = alpha2code\n",
      "        self.name = name\n",
      "        self.official_name = official_name\n",
      "        self._subdivisions = None\n",
      "        \n",
      "    def add_subdivisions(self, subdivisions):\n",
      "        if self._subdivisions is None:\n",
      "            self._subdivisions = []\n",
      "        self._subdivisions.extend(subdivisions)\n",
      "        \n",
      "    @property\n",
      "    def subdivisions(self):\n",
      "        if self._subdivisions is None:\n",
      "            self._subdivisions = [ISOSubdivision(x.name, x.code, x.parent_code) for x in pycountry.subdivisions.get(country_code=self.alpha2)]\n",
      "        return self._subdivisions"
     ],
     "language": "python",
     "metadata": {},
     "outputs": [],
     "prompt_number": 35
    },
    {
     "cell_type": "markdown",
     "metadata": {},
     "source": [
      "The next cell provides a mechanism for overriding the ISO results we get from pycountry. This is because sometimes the data is out-of-date."
     ]
    },
    {
     "cell_type": "code",
     "collapsed": false,
     "input": [
      "kenya = ISOCountry(\"KE\")\n",
      "kenya.add_subdivisions([ISOSubdivision(b, a) for a, b in [\n",
      "    ('KE-01', 'Baringo'),\n",
      "    ('KE-02', 'Bomet'),\n",
      "    ('KE-03', 'Bungoma'),\n",
      "    ('KE-04', 'Busia'),\n",
      "    ('KE-05', 'Elgeyo/Marakwet'),\n",
      "    ('KE-06', 'Embu'),\n",
      "    ('KE-07', 'Garissa'),\n",
      "    ('KE-08', 'Homa Bay'),\n",
      "    ('KE-09', 'Isiolo'),\n",
      "    ('KE-10', 'Kajiado'),\n",
      "    ('KE-11', 'Kakamega'),\n",
      "    ('KE-12', 'Kericho'),\n",
      "    ('KE-13', 'Kiambu'),\n",
      "    ('KE-14', 'Kilifi'),\n",
      "    ('KE-15', 'Kirinyaga'),\n",
      "    ('KE-16', 'Kisii'),\n",
      "    ('KE-17', 'Kisumu'),\n",
      "    ('KE-18', 'Kitui'),\n",
      "    ('KE-19', 'Kwale'),\n",
      "    ('KE-20', 'Laikipia'),\n",
      "    ('KE-21', 'Lamu'),\n",
      "    ('KE-22', 'Machakos'),\n",
      "    ('KE-23', 'Makueni'),\n",
      "    ('KE-24', 'Mandera'),\n",
      "    ('KE-25', 'Marsabit'),\n",
      "    ('KE-26', 'Meru'),\n",
      "    ('KE-27', 'Migori'),\n",
      "    ('KE-28', 'Mombasa'),\n",
      "    ('KE-29', \"Murang'a\"),\n",
      "    ('KE-30', 'Nairobi City'),\n",
      "    ('KE-31', 'Nakuru'),\n",
      "    ('KE-32', 'Nandi'),\n",
      "    ('KE-33', 'Narok'),\n",
      "    ('KE-34', 'Nyamira'),\n",
      "    ('KE-35', 'Nyandarua'),\n",
      "    ('KE-36', 'Nyeri'),\n",
      "    ('KE-37', 'Samburu'),\n",
      "    ('KE-38', 'Siaya'),\n",
      "    ('KE-39', 'Taita/Taveta'),\n",
      "    ('KE-40', 'Tana River'),\n",
      "    ('KE-41', 'Tharaka-Nithi'),\n",
      "    ('KE-42', 'Trans Nzoia'),\n",
      "    ('KE-43', 'Turkana'),\n",
      "    ('KE-44', 'Uasin Gishu'),\n",
      "    ('KE-45', 'Vihiga'),\n",
      "    ('KE-46', 'Wajir'),\n",
      "    ('KE-47', 'West Pokot'),\n",
      "]])\n",
      "\n",
      "iso_countries = {\n",
      "    'KE': kenya\n",
      "}"
     ],
     "language": "python",
     "metadata": {},
     "outputs": [],
     "prompt_number": 42
    },
    {
     "cell_type": "markdown",
     "metadata": {},
     "source": [
      "The function ``resolve`` in the next cell will find a country given an ISO 3166-1 alpha 2 code. It works as follows:\n",
      "1. Search OSM for the given country. By default this will search for the official ISO name, but you can optionally provide a list of country names to try first. This is useful if the ISO name is long or not search-friendly, for example \"Korea, Democratic People's Republic of\" instead of \"North Korea\".\n",
      "2. If the country is found, search OSM for each ISO subdivision. Note: the OSM subdivision code (if any) is ignored, and not matched against ISO; only the name is matched. You will need to double-check the results, as sometimes the country itself might be returned again, or a city boundary may be returned (if the city and region share the same name). Use the ``customtextfn`` parameter to provide an optional function which should, given an ISO name and code, return a name (or list of names) to search in OSM (in addition to the official ISO name).\n",
      "\n",
      "A ``Country`` object will be returned."
     ]
    },
    {
     "cell_type": "code",
     "collapsed": false,
     "input": [
      "def resolve(alpha2code, customtextfn=None, country_names=None):\n",
      "    if customtextfn is None:\n",
      "        customtextfn = lambda name, code: name\n",
      "\n",
      "    if alpha2code in iso_countries:\n",
      "        iso_country = iso_countries[alpha2code]\n",
      "    else:\n",
      "        iso_country = ISOCountry(alpha2code)\n",
      "    country_name = None\n",
      "    code_tag = None\n",
      "    \n",
      "    # construct the list of names to search OSM for\n",
      "    if country_names is None:\n",
      "        names = []\n",
      "    else:\n",
      "        names = country_names\n",
      "    if iso_country.official_name is not None:\n",
      "        names.append(iso_country.official_name)\n",
      "    if iso_country.name is not None:\n",
      "        names.append(iso_country.name)\n",
      "        \n",
      "    # search for country\n",
      "    for name in names:\n",
      "        country_relation = osm_search(country=name)\n",
      "        for tag in ['ISO3166-1:alpha2', 'ISO3166-1']:\n",
      "            if country_relation is not None and tag in country_relation['tag']:\n",
      "                code_tag = tag\n",
      "                country_name = name\n",
      "                break\n",
      "        if country_name is not None:\n",
      "            break\n",
      "    if country_name == None:\n",
      "        raise Exception(\"Cannot find country in OSM: %s.\" % (\", \".join(names)))\n",
      "    if country_relation['tag'][code_tag].lower() != iso_country.alpha2.lower():\n",
      "        print country_relation['tag']\n",
      "        raise Exception(\"Country mismatch\")\n",
      "    country = Country(iso_country, country_relation, name_override=country_name)\n",
      "    \n",
      "    regions = dict()\n",
      "    for iso_region in iso_country.subdivisions:\n",
      "        search_regions = customtextfn(iso_region.name, iso_region.code)\n",
      "        if search_regions is None:\n",
      "            print \"Ignoring %s..\" % iso_region.name\n",
      "            continue\n",
      "        relation = osm_search(region=search_regions, country=country.name, blacklist=[int(country.relation['id'])])\n",
      "        if relation is not None:\n",
      "            regions[iso_region.code] = Region(iso_region, relation)\n",
      "        else:\n",
      "            regions[iso_region.code] = Region(iso_region, None)\n",
      "            print \"%s NOT FOUND\" % (iso_region.code)\n",
      "    \n",
      "    # resolve dependencies between regions\n",
      "    for code, region in regions.iteritems():\n",
      "        parent_code = region.iso.parent_code\n",
      "        if parent_code is not None:\n",
      "            if parent_code not in regions:\n",
      "                raise Exception('Region %s has unknown parent %s' % (region.iso.name, parent_code))\n",
      "            regions[parent_code].children.append(region)\n",
      "        else:\n",
      "            country.regions.append(region)\n",
      "    return country"
     ],
     "language": "python",
     "metadata": {},
     "outputs": [],
     "prompt_number": 43
    },
    {
     "cell_type": "markdown",
     "metadata": {},
     "source": [
      "The next cell provides a bunch of helper functions for countries. These will be provided to ``resolve`` automatically at a later stage. You can write your own function, but make sure you assign it to the ``helper`` dictionary (keyed by ISO 3166-1 alpha 2 code).\n",
      "\n",
      "Some helper \"helper\" functions are:\n",
      "* ``to_ascii``: given a unicode string, convert to the best ASCII equivalent. For example, ``to_ascii(u\"S\u016bh\u0101j\") == \"Suhaj\"``.\n",
      "* ``remove_brackets``: remove brackets at the end of the given string (useful if alternate names are provided in ISO which is confusing the OSM search)."
     ]
    },
    {
     "cell_type": "code",
     "collapsed": false,
     "input": [
      "def to_ascii(s):\n",
      "    return unicodedata.normalize('NFKD', s).encode('ascii', 'ignore')\n",
      "\n",
      "def remove_brackets(s):\n",
      "    bracket = s.find(\"(\")\n",
      "    if bracket > -1:\n",
      "        s = s[0:bracket-1]\n",
      "    return s\n",
      "\n",
      "helper = dict()\n",
      "\n",
      "def bangladesh_search(name, code):\n",
      "    if any(c.isdigit() for c in code):\n",
      "        return name + \" District\"\n",
      "    return name + \" Division\"\n",
      "helper['BD'] = bangladesh_search\n",
      "\n",
      "def jordan_search(name, code):\n",
      "    name = to_ascii(name)\n",
      "    for cand in {\"al \", \"at \", \"az \"}:\n",
      "        if name.lower().startswith(cand):\n",
      "            name = name[len(cand):]\n",
      "    if name.lower() == \"ajlun\":\n",
      "        name = \"Ajloun\"\n",
      "    if name.lower() == \"aqabah\":\n",
      "        name = \"Aqaba\"\n",
      "    return remove_brackets(name)\n",
      "helper['JO'] = jordan_search\n",
      "\n",
      "def syria_search(name, code):\n",
      "    if code.upper() == \"SY-HL\":\n",
      "        name = \"Aleppo\"\n",
      "    if code.upper() == \"SY-DY\":\n",
      "        name = \"Deir ez-Zor\"\n",
      "    if code.upper() == \"SY-LA\":\n",
      "        name = \"Latakia\"\n",
      "    if code.upper() == \"SY-QU\":\n",
      "        name = \"Quneitra\"\n",
      "    if code.upper() == \"SY-HM\":\n",
      "        name = \"Hama\"\n",
      "    return name\n",
      "helper['SY'] = syria_search\n",
      "\n",
      "def lebanon_search(name, code):\n",
      "    if code.upper() == \"LB-JL\":\n",
      "        name = \"Mount Lebanon\"\n",
      "    if code.upper() == \"LB-BA\":\n",
      "        name = \"Beirut\"\n",
      "    if code.upper() == \"LB-AK\":\n",
      "        name = \"Qada Akkar\"\n",
      "    name += \" Governorate\"\n",
      "    return name\n",
      "helper['LB'] = lebanon_search\n",
      "\n",
      "def bulgaria_search(name, code):\n",
      "    if code.upper() == \"BG-22\":\n",
      "        name = \"Sofia-City\"\n",
      "    if code.upper() in {\"BG-05\", \"BG-23\"}:\n",
      "        name += \" Province\"\n",
      "    else:\n",
      "        name += \" Region\"\n",
      "    return name\n",
      "helper['BG'] = bulgaria_search\n",
      "\n",
      "def senegal_search(name, code):\n",
      "    name += \" Region\"\n",
      "    return name\n",
      "helper['SN'] = senegal_search\n",
      "\n",
      "def sierra_leone_search(name, code):\n",
      "    return remove_brackets(name)\n",
      "helper['SL'] = sierra_leone_search\n",
      "\n",
      "def guinea_search(name, code):\n",
      "    if len(code) == 5:\n",
      "        return (name + \" Region\", name + \" Prefecture\", name)\n",
      "    return name\n",
      "helper['GN'] = guinea_search\n",
      "\n",
      "def cote_divoire_search(name, code):\n",
      "    return remove_brackets(name)\n",
      "helper['CI'] = cote_divoire_search\n",
      "\n",
      "def uganda_search(name, code):\n",
      "    if len(code) == 4:\n",
      "        return (name + \" Region\", name)\n",
      "    return name\n",
      "helper['UG'] = uganda_search\n",
      "\n",
      "def zambia_search(name, code):\n",
      "    name = remove_brackets(name)\n",
      "    return (name + \" Province\", name)\n",
      "helper['ZM'] = zambia_search\n",
      "\n",
      "def mozambique_helper(name, code):\n",
      "    if code.upper() == \"MZ-N\":\n",
      "        return \"Nampula\"\n",
      "    return name\n",
      "helper['MZ'] = mozambique_helper\n",
      "\n",
      "def sao_tome_principe_helper(name, code):\n",
      "    return name + \" Province\"\n",
      "helper['ST'] = sao_tome_principe_helper\n",
      "\n",
      "def maldives_helper(name, code):\n",
      "    lookup = {\n",
      "        \"MV-MLE\": \"Maale\",\n",
      "        \"MV-CE\": \"Medhu\",\n",
      "        \"MV-NO\": \"Uthuru\",\n",
      "        \"MV-NC\": \"Medhu-Uthuru\",\n",
      "        \"MV-SU\": \"Dhekunu\",\n",
      "        \"MV-SC\": \"Medhu-Dhekunu\",\n",
      "        \"MV-UN\": \"Mathi-Uthuru\",\n",
      "        \"MV-US\": \"Mathi-Dhekunu\"\n",
      "    }\n",
      "    if code in lookup:\n",
      "        return lookup[code] + \" Province\"\n",
      "    return name\n",
      "helper['MV'] = maldives_helper\n",
      "\n",
      "def singapore_helper(name, code):\n",
      "    return name + \" Community Development Council\"\n",
      "helper['SG'] = singapore_helper\n",
      "\n",
      "def sri_lanka_helper(name, code):\n",
      "    if len(code) > 4:\n",
      "        return None\n",
      "    lookup = {\n",
      "        \"LK-1\": \"Western\",\n",
      "        \"LK-2\": \"Central\",\n",
      "        \"LK-3\": \"Southern\",\n",
      "        \"LK-4\": \"Northern\",\n",
      "        \"LK-5\": \"Eastern\",\n",
      "        \"LK-6\": \"North Western\",\n",
      "        \"LK-7\": \"North Central\",\n",
      "        \"LK-8\": \"Uva\",\n",
      "        \"LK-9\": \"Sabaragamuwa\"\n",
      "    }\n",
      "    if code in lookup:\n",
      "        return lookup[code]\n",
      "    return name\n",
      "helper['LK'] = sri_lanka_helper\n",
      "\n",
      "def egypt_helper(name, code):\n",
      "    remove = {\"al \", \"ad \", \"as \"}\n",
      "    for phrase in remove:\n",
      "        if name.lower().startswith(phrase):\n",
      "            name = name[len(phrase):]\n",
      "    return name + \" Governorate\"\n",
      "helper['EG'] = egypt_helper\n",
      "\n",
      "def solomon_islands_helper(name, code):\n",
      "    name = remove_brackets(name)\n",
      "    return (name, name + \" Province\", name + \" Territory\")\n",
      "helper['SB'] = solomon_islands_helper\n",
      "\n",
      "def luxembourg_search(name, code):\n",
      "    return \"District \" + name\n",
      "helper['LU'] = luxembourg_search\n",
      "\n",
      "def morocco_helper(name, code):\n",
      "    name = remove_brackets(name)\n",
      "    return [\"Province \" + name, name]\n",
      "helper['MA'] = morocco_helper\n",
      "\n",
      "def madagascar_helper(name, code):\n",
      "    if name.lower().startswith(\"a\"):\n",
      "        name = \"d'\" + name\n",
      "    return \"Province \" + name\n",
      "helper['MG'] = madagascar_helper\n",
      "\n",
      "def philippines_helper(name, code):\n",
      "    return remove_brackets(name)\n",
      "helper['PH'] = philippines_helper\n",
      "\n",
      "def venezuela_helper(name, code):\n",
      "    if code.upper() == \"VE-A\":\n",
      "        return \"Distrito Capital\"\n",
      "    return (name, \"Estado \" + name)\n",
      "helper['VE'] = venezuela_helper\n",
      "\n",
      "def italy_helper(name, code):\n",
      "    if not any(x for x in code if x.isdigit()):\n",
      "        return (code[3:], name)\n",
      "    return name\n",
      "helper['IT'] = italy_helper"
     ],
     "language": "python",
     "metadata": {},
     "outputs": [],
     "prompt_number": 44
    },
    {
     "cell_type": "markdown",
     "metadata": {},
     "source": [
      "Set up the country of interest. Set ``ccode`` to the ISO 3166-1 alpha 2 country code you want to search for.\n",
      "\n",
      "Note: you can set this to be a tuple of the form ``(code, [name1, name2, ..])``. This will force the given list of names to be searched in OSM before attempting the official ISO name."
     ]
    },
    {
     "cell_type": "code",
     "collapsed": false,
     "input": [
      "#ccode = \"KR\"\n",
      "ccode = (\"KE\", [\"Kenya\"])"
     ],
     "language": "python",
     "metadata": {},
     "outputs": [],
     "prompt_number": 45
    },
    {
     "cell_type": "markdown",
     "metadata": {},
     "source": [
      "Run the next cell to set up relevant variables. This will also return the number of subdivisions to be searched. If this is a large number (> 40) it could take some time to search each one in OSM!\n",
      "\n",
      "Note: you may want to confirm this number with ISO and/or Wikipedia, in case ``pycountry`` is out of date."
     ]
    },
    {
     "cell_type": "code",
     "collapsed": false,
     "input": [
      "if isinstance(ccode, tuple):\n",
      "    ccode, country_names = ccode\n",
      "else:\n",
      "    country_names = None\n",
      "if ccode in helper:\n",
      "    fn = helper[ccode]\n",
      "else:\n",
      "    fn = None\n",
      "print \"Number of subdivisions for %s: %d\" % (ccode, len(pycountry.subdivisions.get(country_code=ccode)))"
     ],
     "language": "python",
     "metadata": {},
     "outputs": [
      {
       "output_type": "stream",
       "stream": "stdout",
       "text": [
        "Number of subdivisions for KE: 7\n"
       ]
      }
     ],
     "prompt_number": 46
    },
    {
     "cell_type": "markdown",
     "metadata": {},
     "source": [
      "The next cell resolves the country and its subdivisions. Go and make a coffee!\n",
      "\n",
      "HTML linking ISO to OSM will be presented at the conclusion."
     ]
    },
    {
     "cell_type": "code",
     "collapsed": false,
     "input": [
      "country = resolve(ccode, customtextfn=fn, country_names=country_names) ; country"
     ],
     "language": "python",
     "metadata": {},
     "outputs": [
      {
       "output_type": "stream",
       "stream": "stdout",
       "text": [
        "Searching for 'Kenya'\n",
        "Searching for 'Baringo, Kenya'"
       ]
      },
      {
       "output_type": "stream",
       "stream": "stdout",
       "text": [
        "\n",
        "Searching for 'Bomet, Kenya'"
       ]
      },
      {
       "output_type": "stream",
       "stream": "stdout",
       "text": [
        "\n",
        "Searching for 'Bungoma, Kenya'"
       ]
      },
      {
       "output_type": "stream",
       "stream": "stdout",
       "text": [
        "\n",
        "Searching for 'Busia, Kenya'"
       ]
      },
      {
       "output_type": "stream",
       "stream": "stdout",
       "text": [
        "\n",
        "Searching for 'Elgeyo/Marakwet, Kenya'"
       ]
      },
      {
       "output_type": "stream",
       "stream": "stdout",
       "text": [
        "\n",
        "KE-05 NOT FOUND"
       ]
      },
      {
       "output_type": "stream",
       "stream": "stdout",
       "text": [
        "\n",
        "Searching for 'Embu, Kenya'\n",
        "Searching for 'Garissa, Kenya'"
       ]
      },
      {
       "output_type": "stream",
       "stream": "stdout",
       "text": [
        "\n",
        "Searching for 'Homa Bay, Kenya'"
       ]
      },
      {
       "output_type": "stream",
       "stream": "stdout",
       "text": [
        "\n",
        "Searching for 'Isiolo, Kenya'"
       ]
      },
      {
       "output_type": "stream",
       "stream": "stdout",
       "text": [
        "\n",
        "Searching for 'Kajiado, Kenya'"
       ]
      },
      {
       "output_type": "stream",
       "stream": "stdout",
       "text": [
        "\n",
        "Searching for 'Kakamega, Kenya'"
       ]
      },
      {
       "output_type": "stream",
       "stream": "stdout",
       "text": [
        "\n",
        "Searching for 'Kericho, Kenya'"
       ]
      },
      {
       "output_type": "stream",
       "stream": "stdout",
       "text": [
        "\n",
        "Searching for 'Kiambu, Kenya'"
       ]
      },
      {
       "output_type": "stream",
       "stream": "stdout",
       "text": [
        "\n",
        "Searching for 'Kilifi, Kenya'"
       ]
      },
      {
       "output_type": "stream",
       "stream": "stdout",
       "text": [
        "\n",
        "Searching for 'Kirinyaga, Kenya'"
       ]
      },
      {
       "output_type": "stream",
       "stream": "stdout",
       "text": [
        "\n",
        "Searching for 'Kisii, Kenya'"
       ]
      },
      {
       "output_type": "stream",
       "stream": "stdout",
       "text": [
        "\n",
        "Searching for 'Kisumu, Kenya'"
       ]
      },
      {
       "output_type": "stream",
       "stream": "stdout",
       "text": [
        "\n",
        "Searching for 'Kitui, Kenya'"
       ]
      },
      {
       "output_type": "stream",
       "stream": "stdout",
       "text": [
        "\n",
        "Searching for 'Kwale, Kenya'"
       ]
      },
      {
       "output_type": "stream",
       "stream": "stdout",
       "text": [
        "\n",
        "Searching for 'Laikipia, Kenya'"
       ]
      },
      {
       "output_type": "stream",
       "stream": "stdout",
       "text": [
        "\n",
        "Searching for 'Lamu, Kenya'"
       ]
      },
      {
       "output_type": "stream",
       "stream": "stdout",
       "text": [
        "\n",
        "Searching for 'Machakos, Kenya'"
       ]
      },
      {
       "output_type": "stream",
       "stream": "stdout",
       "text": [
        "\n",
        "Searching for 'Makueni, Kenya'"
       ]
      },
      {
       "output_type": "stream",
       "stream": "stdout",
       "text": [
        "\n",
        "Searching for 'Mandera, Kenya'"
       ]
      },
      {
       "output_type": "stream",
       "stream": "stdout",
       "text": [
        "\n",
        "Searching for 'Marsabit, Kenya'"
       ]
      },
      {
       "output_type": "stream",
       "stream": "stdout",
       "text": [
        "\n",
        "Searching for 'Meru, Kenya'"
       ]
      },
      {
       "output_type": "stream",
       "stream": "stdout",
       "text": [
        "\n",
        "Searching for 'Migori, Kenya'"
       ]
      },
      {
       "output_type": "stream",
       "stream": "stdout",
       "text": [
        "\n",
        "Searching for 'Mombasa, Kenya'"
       ]
      },
      {
       "output_type": "stream",
       "stream": "stdout",
       "text": [
        "\n",
        "Searching for 'Murang'a, Kenya'"
       ]
      },
      {
       "output_type": "stream",
       "stream": "stdout",
       "text": [
        "\n",
        "Searching for 'Nairobi City, Kenya'"
       ]
      },
      {
       "output_type": "stream",
       "stream": "stdout",
       "text": [
        "\n",
        "KE-30 NOT FOUND"
       ]
      },
      {
       "output_type": "stream",
       "stream": "stdout",
       "text": [
        "\n",
        "Searching for 'Nakuru, Kenya'\n",
        "Searching for 'Nandi, Kenya'"
       ]
      },
      {
       "output_type": "stream",
       "stream": "stdout",
       "text": [
        "\n",
        "Searching for 'Narok, Kenya'"
       ]
      },
      {
       "output_type": "stream",
       "stream": "stdout",
       "text": [
        "\n",
        "Searching for 'Nyamira, Kenya'"
       ]
      },
      {
       "output_type": "stream",
       "stream": "stdout",
       "text": [
        "\n",
        "Searching for 'Nyandarua, Kenya'"
       ]
      },
      {
       "output_type": "stream",
       "stream": "stdout",
       "text": [
        "\n",
        "Searching for 'Nyeri, Kenya'"
       ]
      },
      {
       "output_type": "stream",
       "stream": "stdout",
       "text": [
        "\n",
        "Searching for 'Samburu, Kenya'"
       ]
      },
      {
       "output_type": "stream",
       "stream": "stdout",
       "text": [
        "\n",
        "Searching for 'Siaya, Kenya'"
       ]
      },
      {
       "output_type": "stream",
       "stream": "stdout",
       "text": [
        "\n",
        "Searching for 'Taita/Taveta, Kenya'"
       ]
      },
      {
       "output_type": "stream",
       "stream": "stdout",
       "text": [
        "\n",
        "Searching for 'Tana River, Kenya'"
       ]
      },
      {
       "output_type": "stream",
       "stream": "stdout",
       "text": [
        "\n",
        "Searching for 'Tharaka-Nithi, Kenya'"
       ]
      },
      {
       "output_type": "stream",
       "stream": "stdout",
       "text": [
        "\n",
        "Searching for 'Trans Nzoia, Kenya'"
       ]
      },
      {
       "output_type": "stream",
       "stream": "stdout",
       "text": [
        "\n",
        "Searching for 'Turkana, Kenya'"
       ]
      },
      {
       "output_type": "stream",
       "stream": "stdout",
       "text": [
        "\n",
        "Searching for 'Uasin Gishu, Kenya'"
       ]
      },
      {
       "output_type": "stream",
       "stream": "stdout",
       "text": [
        "\n",
        "Searching for 'Vihiga, Kenya'"
       ]
      },
      {
       "output_type": "stream",
       "stream": "stdout",
       "text": [
        "\n",
        "Searching for 'Wajir, Kenya'"
       ]
      },
      {
       "output_type": "stream",
       "stream": "stdout",
       "text": [
        "\n",
        "Searching for 'West Pokot, Kenya'"
       ]
      },
      {
       "output_type": "stream",
       "stream": "stdout",
       "text": [
        "\n"
       ]
      },
      {
       "html": [
        "<h2><a href=\"http://www.openstreetmap.org/relation/192798\">Kenya</a> <small>(192798) [<a href=\"http://iso.org/obp/ui/#iso:code:3166:KE\">KE</a>]</small></h2><ul><li><a href=\"http://www.openstreetmap.org/relation/3495556\">Nandi</a> <small>(3495556)</small></li><li><a href=\"http://www.openstreetmap.org/relation/3486291\">Siaya</a> <small>(3486291)</small></li><li><a href=\"http://www.openstreetmap.org/relation/3495561\">Tana River</a> <small>(3495561)</small></li><li><a href=\"http://www.openstreetmap.org/relation/3495562\">Tharaka-Nithi</a> <small>(3495562)</small></li><li><a href=\"http://www.openstreetmap.org/relation/3495563\">Trans Nzoia</a> <small>(3495563)</small></li><li><a href=\"http://www.openstreetmap.org/relation/3495564\">Turkana</a> <small>(3495564)</small></li><li><a href=\"http://www.openstreetmap.org/relation/3495565\">Uasin Gishu</a> <small>(3495565)</small></li><li><a href=\"http://www.openstreetmap.org/relation/3495554\">Mombasa</a> <small>(3495554)</small></li><li><a href=\"http://www.openstreetmap.org/relation/3495566\">Wajir</a> <small>(3495566)</small></li><li><a href=\"http://www.openstreetmap.org/relation/3495567\">West Pokot</a> <small>(3495567)</small></li><li><a href=\"http://www.openstreetmap.org/relation/3977580\">Murang'a</a> <small>(3977580)</small></li><li><a href=\"http://www.openstreetmap.org/relation/3495553\">Meru</a> <small>(3495553)</small></li><li><a href=\"http://www.openstreetmap.org/relation/3486018\">Migori</a> <small>(3486018)</small></li><li><a href=\"http://www.openstreetmap.org/relation/3495551\">Mandera</a> <small>(3495551)</small></li><li><a href=\"http://www.openstreetmap.org/relation/3495552\">Marsabit</a> <small>(3495552)</small></li><li><a href=\"http://www.openstreetmap.org/relation/3486017\">Homa Bay</a> <small>(3486017)</small></li><li><a href=\"http://www.openstreetmap.org/relation/3495542\">Isiolo</a> <small>(3495542)</small></li><li><a href=\"http://www.openstreetmap.org/relation/3495549\">Laikipia</a> <small>(3495549)</small></li><li><a href=\"http://www.openstreetmap.org/relation/3495550\">Lamu</a> <small>(3495550)</small></li><li><a href=\"http://www.openstreetmap.org/relation/3486321\">Busia</a> <small>(3486321)</small></li><li>Elgeyo/Marakwet <small>(not found)</small></li><li><a href=\"http://www.openstreetmap.org/relation/3495540\">Embu</a> <small>(3495540)</small></li><li><a href=\"http://www.openstreetmap.org/relation/3495541\">Garissa</a> <small>(3495541)</small></li><li><a href=\"http://www.openstreetmap.org/relation/3495537\">Baringo</a> <small>(3495537)</small></li><li><a href=\"http://www.openstreetmap.org/relation/3338139\">Bomet</a> <small>(3338139)</small></li><li><a href=\"http://www.openstreetmap.org/relation/3495538\">Bungoma</a> <small>(3495538)</small></li><li><a href=\"http://www.openstreetmap.org/relation/3486019\">Nakuru</a> <small>(3486019)</small></li><li><a href=\"http://www.openstreetmap.org/relation/3495557\">Nyandarua</a> <small>(3495557)</small></li><li><a href=\"http://www.openstreetmap.org/relation/3486290\">Nyamira</a> <small>(3486290)</small></li><li><a href=\"http://www.openstreetmap.org/relation/3495559\">Samburu</a> <small>(3495559)</small></li><li>Nairobi City <small>(not found)</small></li><li><a href=\"http://www.openstreetmap.org/relation/3495558\">Nyeri</a> <small>(3495558)</small></li><li><a href=\"http://www.openstreetmap.org/relation/3492707\">Machakos</a> <small>(3492707)</small></li><li><a href=\"http://www.openstreetmap.org/relation/3492708\">Makueni</a> <small>(3492708)</small></li><li><a href=\"http://www.openstreetmap.org/relation/3495544\">Kiambu</a> <small>(3495544)</small></li><li><a href=\"http://www.openstreetmap.org/relation/3486288\">Kericho</a> <small>(3486288)</small></li><li><a href=\"http://www.openstreetmap.org/relation/3495543\">Kakamega</a> <small>(3495543)</small></li><li><a href=\"http://www.openstreetmap.org/relation/3486020\">Kajiado</a> <small>(3486020)</small></li><li><a href=\"http://www.openstreetmap.org/relation/3486289\">Kisumu</a> <small>(3486289)</small></li><li><a href=\"http://www.openstreetmap.org/relation/3338140\">Kisii</a> <small>(3338140)</small></li><li><a href=\"http://www.openstreetmap.org/relation/3495546\">Kirinyaga</a> <small>(3495546)</small></li><li><a href=\"http://www.openstreetmap.org/relation/3495545\">Kilifi</a> <small>(3495545)</small></li><li><a href=\"http://www.openstreetmap.org/relation/3495548\">Kwale</a> <small>(3495548)</small></li><li><a href=\"http://www.openstreetmap.org/relation/3495547\">Kitui</a> <small>(3495547)</small></li><li><a href=\"http://www.openstreetmap.org/relation/3495560\">Taita/Taveta</a> <small>(3495560)</small></li><li><a href=\"http://www.openstreetmap.org/relation/3338145\">Narok</a> <small>(3338145)</small></li><li><a href=\"http://www.openstreetmap.org/relation/3486322\">Vihiga</a> <small>(3486322)</small></li></ul>"
       ],
       "metadata": {},
       "output_type": "pyout",
       "prompt_number": 47,
       "text": [
        "<__main__.Country instance at 0x7f392fc63050>"
       ]
      }
     ],
     "prompt_number": 47
    },
    {
     "cell_type": "markdown",
     "metadata": {},
     "source": [
      "If you need to create OSM rules for this country, execute the next cell. It will make rules assigning country and region codes, as well as linking regions to parent regions (if applicable)."
     ]
    },
    {
     "cell_type": "code",
     "collapsed": false,
     "input": [
      "country.print_rules()"
     ],
     "language": "python",
     "metadata": {},
     "outputs": [
      {
       "output_type": "stream",
       "stream": "stdout",
       "text": [
        "#### Kenya (KE)\n",
        "tag       : 3495556 :         : KE-32  : Nandi\n",
        "tag       : 3486291 :         : KE-38  : Siaya\n",
        "tag       : 3495561 :         : KE-40  : Tana River\n",
        "tag       : 3495562 :         : KE-41  : Tharaka-Nithi\n",
        "tag       : 3495563 :         : KE-42  : Trans Nzoia\n",
        "tag       : 3495564 :         : KE-43  : Turkana\n",
        "tag       : 3495565 :         : KE-44  : Uasin Gishu\n",
        "tag       : 3495554 :         : KE-28  : Mombasa\n",
        "tag       : 3495566 :         : KE-46  : Wajir\n",
        "tag       : 3495567 :         : KE-47  : West Pokot\n",
        "tag       : 3977580 :         : KE-29  : Murang`a (Murang'a)\n",
        "tag       : 3495553 :         : KE-26  : Meru\n",
        "tag       : 3486018 :         : KE-27  : Migori\n",
        "tag       : 3495551 :         : KE-24  : Mandera\n",
        "tag       : 3495552 :         : KE-25  : Marsabit\n",
        "tag       : 3486017 :         : KE-08  : Homa Bay\n",
        "tag       : 3495542 :         : KE-09  : Isiolo\n",
        "tag       : 3495549 :         : KE-20  : Laikipia\n",
        "tag       : 3495550 :         : KE-21  : Lamu\n",
        "tag       : 3486321 :         : KE-04  : Busia\n",
        "#tag       : ??????? :         : KE-05  : Elgeyo/Marakwet (not found in OSM)\n",
        "tag       : 3495540 :         : KE-06  : Embu\n",
        "tag       : 3495541 :         : KE-07  : Garissa\n",
        "tag       : 3495537 :         : KE-01  : Baringo\n",
        "tag       : 3338139 :         : KE-02  : Bomet\n",
        "tag       : 3495538 :         : KE-03  : Bungoma\n",
        "tag       : 3486019 :         : KE-31  : Nakuru\n",
        "tag       : 3495557 :         : KE-35  : Nyandarua\n",
        "tag       : 3486290 :         : KE-34  : Nyamira\n",
        "tag       : 3495559 :         : KE-37  : Samburu\n",
        "#tag       : ??????? :         : KE-30  : Nairobi City (not found in OSM)\n",
        "tag       : 3495558 :         : KE-36  : Nyeri\n",
        "tag       : 3492707 :         : KE-22  : Machakos\n",
        "tag       : 3492708 :         : KE-23  : Makueni\n",
        "tag       : 3495544 :         : KE-13  : Kiambu\n",
        "tag       : 3486288 :         : KE-12  : Kericho\n",
        "tag       : 3495543 :         : KE-11  : Kakamega\n",
        "tag       : 3486020 :         : KE-10  : Kajiado\n",
        "tag       : 3486289 :         : KE-17  : Kisumu\n",
        "tag       : 3338140 :         : KE-16  : Kisii\n",
        "tag       : 3495546 :         : KE-15  : Kirinyaga\n",
        "tag       : 3495545 :         : KE-14  : Kilifi\n",
        "tag       : 3495548 :         : KE-19  : Kwale\n",
        "tag       : 3495547 :         : KE-18  : Kitui\n",
        "tag       : 3495560 :         : KE-39  : Taita Taveta (Taita/Taveta)\n",
        "tag       : 3338145 :         : KE-33  : Narok\n",
        "tag       : 3486322 :         : KE-45  : Vihiga\n"
       ]
      }
     ],
     "prompt_number": 48
    },
    {
     "cell_type": "markdown",
     "metadata": {},
     "source": [
      "That's it! Anything underneath this line is sandbox code.\n",
      "\n",
      "---"
     ]
    },
    {
     "cell_type": "code",
     "collapsed": false,
     "input": [
      "# use this code to get a list of subdivisions translated to English (if a translation exists)\n",
      "import gettext\n",
      "english = gettext.translation('iso_3166_2', pycountry.LOCALES_DIR, languages=['en'])\n",
      "english.install()\n",
      "\n",
      "c = pycountry.countries.get(alpha2=\"EG\")\n",
      "print _(c.name)\n",
      "for sub in pycountry.subdivisions.get(country_code=\"EG\"):\n",
      "    print _(sub.name)"
     ],
     "language": "python",
     "metadata": {},
     "outputs": [
      {
       "output_type": "stream",
       "stream": "stdout",
       "text": [
        "Egypt\n",
        "Al Gharb\u012byah\n",
        "Al Iskandar\u012byah\n",
        "Al Ism\u0101`\u012bl\u012byah\n",
        "Al J\u012bzah\n",
        "Al Min\u016bf\u012byah\n",
        "Al Miny\u0101\n",
        "Al Q\u0101hirah\n",
        "Al Qaly\u016bb\u012byah\n",
        "Al W\u0101d\u012b al Jad\u012bd\n",
        "As S\u0101dis min Ukt\u016bbar\n",
        "Ash Sharq\u012byah\n",
        "As Suways\n",
        "Asw\u0101n\n",
        "Asy\u016bt\n",
        "Ban\u012b Suwayf\n",
        "B\u016br Sa`\u012bd\n",
        "Dumy\u0101t\n",
        "H\u0327ulw\u0101n\n",
        "Jan\u016bb S\u012bn\u0101'\n",
        "Kafr ash Shaykh\n",
        "Matr\u016bh\n",
        "Qin\u0101\n",
        "Shamal S\u012bn\u0101'\n",
        "S\u016bh\u0101j\n",
        "Ad Daqahl\u012byah\n",
        "Al Bahr al Ahmar\n",
        "Al Buhayrah\n",
        "Al Fayy\u016bm\n"
       ]
      }
     ],
     "prompt_number": 613
    },
    {
     "cell_type": "code",
     "collapsed": false,
     "input": [
      "to_ascii(u\"S\u016bh\u0101j\")"
     ],
     "language": "python",
     "metadata": {},
     "outputs": [
      {
       "metadata": {},
       "output_type": "pyout",
       "prompt_number": 845,
       "text": [
        "'Suhaj'"
       ]
      }
     ],
     "prompt_number": 845
    },
    {
     "cell_type": "code",
     "collapsed": false,
     "input": [],
     "language": "python",
     "metadata": {},
     "outputs": []
    }
   ],
   "metadata": {}
  }
 ]
}