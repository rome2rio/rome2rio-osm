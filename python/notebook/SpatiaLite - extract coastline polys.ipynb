{
 "metadata": {
  "name": "",
  "signature": "sha256:e4805b47adddb9ef4545c9c01f3ca1bf395fde94b10da31acc1822402440e060"
 },
 "nbformat": 3,
 "nbformat_minor": 0,
 "worksheets": [
  {
   "cells": [
    {
     "cell_type": "markdown",
     "metadata": {},
     "source": [
      "This notebook extracts the coastline polygons from ``planet-complete.db`` and saves them in the multipolygon binary format used by the r2r system. The output file is ``poly.bin.gz`` (used by LocationScraper)."
     ]
    },
    {
     "cell_type": "code",
     "collapsed": false,
     "input": [
      "from pyspatialite import dbapi2 as db\n",
      "import shapely\n",
      "import struct"
     ],
     "language": "python",
     "metadata": {},
     "outputs": [],
     "prompt_number": 1
    },
    {
     "cell_type": "code",
     "collapsed": false,
     "input": [
      "conn = db.connect('/home/mgi/raw/planet-complete.db')"
     ],
     "language": "python",
     "metadata": {},
     "outputs": [],
     "prompt_number": 2
    },
    {
     "cell_type": "code",
     "collapsed": false,
     "input": [
      "cursor = conn.cursor()"
     ],
     "language": "python",
     "metadata": {},
     "outputs": [],
     "prompt_number": 3
    },
    {
     "cell_type": "code",
     "collapsed": false,
     "input": [
      "for row in cursor.execute('select sqlite_version(), spatialite_version()'):\n",
      "    print \"Sqlite version %s, Spatialite version %s\" % (row[0], row[1])"
     ],
     "language": "python",
     "metadata": {},
     "outputs": [
      {
       "output_type": "stream",
       "stream": "stdout",
       "text": [
        "Sqlite version 3.8.2, Spatialite version 4.1.1\n"
       ]
      }
     ],
     "prompt_number": 4
    },
    {
     "cell_type": "code",
     "collapsed": false,
     "input": [
      "import shapely.geometry as geometry"
     ],
     "language": "python",
     "metadata": {},
     "outputs": [],
     "prompt_number": 5
    },
    {
     "cell_type": "code",
     "collapsed": false,
     "input": [
      "from shapely import wkt"
     ],
     "language": "python",
     "metadata": {},
     "outputs": [],
     "prompt_number": 6
    },
    {
     "cell_type": "code",
     "collapsed": false,
     "input": [
      "shapes = []\n",
      "response = cursor.execute('select AsText(Geometry) from land_polygons')\n",
      "for row in response:\n",
      "    shapes.append(wkt.loads(row[0]))"
     ],
     "language": "python",
     "metadata": {},
     "outputs": [],
     "prompt_number": 7
    },
    {
     "cell_type": "code",
     "collapsed": false,
     "input": [
      "len(shapes)"
     ],
     "language": "python",
     "metadata": {},
     "outputs": [
      {
       "metadata": {},
       "output_type": "pyout",
       "prompt_number": 8,
       "text": [
        "581435"
       ]
      }
     ],
     "prompt_number": 8
    },
    {
     "cell_type": "code",
     "collapsed": false,
     "input": [
      "class Ring:\n",
      "    def __init__(self, outer, spatialiteRing, children):\n",
      "        self.outer = outer\n",
      "        self.ring = spatialiteRing\n",
      "        self.children = children\n",
      "        \n",
      "print \"Constructing rings\"\n",
      "outer_rings = []\n",
      "inner_rings = []\n",
      "for poly in [x for x in shapes if x.type == \"Polygon\"]:\n",
      "    children = [Ring(False, ring, []) for ring in poly.interiors]\n",
      "    inner_rings.extend(children)\n",
      "    outer_rings.append(Ring(True, poly.exterior, children))\n",
      "\n",
      "def resolve():    \n",
      "    print \"Resolving internal islands (on %d lakes/seas)\" % len(inner_rings)\n",
      "    remove = set()\n",
      "    pct = 0\n",
      "    for i, coastline in enumerate(outer_rings):\n",
      "        if (100 * i / len(outer_rings)) != pct:\n",
      "            pct = 100 * i / len(outer_rings)\n",
      "            print \"%d%%\" % pct\n",
      "        cminx, cminy, cmaxx, cmaxy = coastline.ring.bounds\n",
      "        for lake in inner_rings:\n",
      "            minx, miny, maxx, maxy = lake.ring.bounds\n",
      "            if cminx > minx and cmaxx < maxx and cminy > miny and cmaxy < maxy:\n",
      "                contains = True\n",
      "                for p in coastline.ring.coords:\n",
      "                    if not lake.ring.contains(geometry.Point(p[0], p[1])):\n",
      "                        contains = False\n",
      "                        break\n",
      "                if contains:\n",
      "                    lake.children.append(coastline)\n",
      "                    remove.add(coastline)\n",
      "                    break\n",
      "                \n",
      "    print \"Done (%d islands resolved)\" % len(remove)\n",
      "    outer_rings = [ring for ring in outer_rings if ring not in remove]"
     ],
     "language": "python",
     "metadata": {},
     "outputs": [
      {
       "output_type": "stream",
       "stream": "stdout",
       "text": [
        "Constructing rings\n"
       ]
      }
     ],
     "prompt_number": 9
    },
    {
     "cell_type": "code",
     "collapsed": false,
     "input": [
      "import struct\n",
      "import gzip\n",
      "\n",
      "assert struct.calcsize(\"=i\") == 4\n",
      "assert struct.calcsize(\"=ff\") == 8\n",
      "\n",
      "def dump_coords(fp, coords):\n",
      "    fp.write(struct.pack(\"=i\", len(coords)))\n",
      "    for lng, lat in coords:\n",
      "        fp.write(struct.pack(\"=ff\", lat, lng))\n",
      "        \n",
      "def dump_ring(fp, ring):\n",
      "    dump_coords(fp, ring.ring.coords)\n",
      "    fp.write(struct.pack(\"=i\", len(ring.children)))\n",
      "    for child in ring.children:\n",
      "        dump_coords(fp, child.ring.coords)\n",
      "        fp.write(struct.pack(\"=i\", 0))  # zero grandchildren\n",
      "        \n",
      "def dump_ringset(filename, rings):\n",
      "    with gzip.open(filename, \"wb\") as fp:\n",
      "        fp.write(struct.pack(\"=i\", len(rings)))\n",
      "        for ring in rings:\n",
      "            dump_ring(fp, ring)"
     ],
     "language": "python",
     "metadata": {},
     "outputs": [],
     "prompt_number": 10
    },
    {
     "cell_type": "code",
     "collapsed": false,
     "input": [
      "dump_ringset(\"/mnt/src/Working/Data/OSM/Processed/poly.bin.gz\", outer_rings)"
     ],
     "language": "python",
     "metadata": {},
     "outputs": [],
     "prompt_number": 11
    },
    {
     "cell_type": "code",
     "collapsed": false,
     "input": [],
     "language": "python",
     "metadata": {},
     "outputs": []
    }
   ],
   "metadata": {}
  }
 ]
}