{
 "cells": [
  {
   "cell_type": "markdown",
   "metadata": {},
   "source": [
    "This notebook extracts the coastline polygons from ``planet-complete.db`` and saves them in the multipolygon binary format used by the r2r system. The output file is ``poly.bin.gz`` (used by LocationScraper)."
   ]
  },
  {
   "cell_type": "code",
   "execution_count": 1,
   "metadata": {
    "collapsed": false
   },
   "outputs": [],
   "source": [
    "from pyspatialite import dbapi2 as db\n",
    "import shapely\n",
    "import struct"
   ]
  },
  {
   "cell_type": "code",
   "execution_count": 2,
   "metadata": {
    "collapsed": false
   },
   "outputs": [],
   "source": [
    "conn = db.connect('/home/mgi/raw/planet-complete.db')"
   ]
  },
  {
   "cell_type": "code",
   "execution_count": 3,
   "metadata": {
    "collapsed": false
   },
   "outputs": [],
   "source": [
    "cursor = conn.cursor()"
   ]
  },
  {
   "cell_type": "code",
   "execution_count": 4,
   "metadata": {
    "collapsed": false
   },
   "outputs": [
    {
     "name": "stdout",
     "output_type": "stream",
     "text": [
      "Sqlite version 3.8.2, Spatialite version 4.1.1\n"
     ]
    }
   ],
   "source": [
    "for row in cursor.execute('select sqlite_version(), spatialite_version()'):\n",
    "    print \"Sqlite version %s, Spatialite version %s\" % (row[0], row[1])"
   ]
  },
  {
   "cell_type": "code",
   "execution_count": 5,
   "metadata": {
    "collapsed": false
   },
   "outputs": [],
   "source": [
    "import shapely.geometry as geometry"
   ]
  },
  {
   "cell_type": "code",
   "execution_count": 6,
   "metadata": {
    "collapsed": false
   },
   "outputs": [],
   "source": [
    "from shapely import wkt"
   ]
  },
  {
   "cell_type": "code",
   "execution_count": 7,
   "metadata": {
    "collapsed": false
   },
   "outputs": [],
   "source": [
    "shapes = []\n",
    "response = cursor.execute('select AsText(Geometry) from land_polygons')\n",
    "for row in response:\n",
    "    shapes.append(wkt.loads(row[0]))"
   ]
  },
  {
   "cell_type": "code",
   "execution_count": 8,
   "metadata": {
    "collapsed": false
   },
   "outputs": [
    {
     "data": {
      "text/plain": [
       "581435"
      ]
     },
     "execution_count": 8,
     "metadata": {},
     "output_type": "execute_result"
    }
   ],
   "source": [
    "len(shapes)"
   ]
  },
  {
   "cell_type": "code",
   "execution_count": 9,
   "metadata": {
    "collapsed": false
   },
   "outputs": [
    {
     "name": "stdout",
     "output_type": "stream",
     "text": [
      "Constructing rings\n"
     ]
    }
   ],
   "source": [
    "class Ring:\n",
    "    def __init__(self, outer, spatialiteRing, children):\n",
    "        self.outer = outer\n",
    "        self.ring = spatialiteRing\n",
    "        self.children = children\n",
    "        \n",
    "print \"Constructing rings\"\n",
    "outer_rings = []\n",
    "inner_rings = []\n",
    "for poly in [x for x in shapes if x.type == \"Polygon\"]:\n",
    "    children = [Ring(False, ring, []) for ring in poly.interiors]\n",
    "    inner_rings.extend(children)\n",
    "    outer_rings.append(Ring(True, poly.exterior, children))\n",
    "\n",
    "def resolve():    \n",
    "    print \"Resolving internal islands (on %d lakes/seas)\" % len(inner_rings)\n",
    "    remove = set()\n",
    "    pct = 0\n",
    "    for i, coastline in enumerate(outer_rings):\n",
    "        if (100 * i / len(outer_rings)) != pct:\n",
    "            pct = 100 * i / len(outer_rings)\n",
    "            print \"%d%%\" % pct\n",
    "        cminx, cminy, cmaxx, cmaxy = coastline.ring.bounds\n",
    "        for lake in inner_rings:\n",
    "            minx, miny, maxx, maxy = lake.ring.bounds\n",
    "            if cminx > minx and cmaxx < maxx and cminy > miny and cmaxy < maxy:\n",
    "                contains = True\n",
    "                for p in coastline.ring.coords:\n",
    "                    if not lake.ring.contains(geometry.Point(p[0], p[1])):\n",
    "                        contains = False\n",
    "                        break\n",
    "                if contains:\n",
    "                    lake.children.append(coastline)\n",
    "                    remove.add(coastline)\n",
    "                    break\n",
    "                \n",
    "    print \"Done (%d islands resolved)\" % len(remove)\n",
    "    outer_rings = [ring for ring in outer_rings if ring not in remove]"
   ]
  },
  {
   "cell_type": "code",
   "execution_count": 10,
   "metadata": {
    "collapsed": false
   },
   "outputs": [],
   "source": [
    "import struct\n",
    "import gzip\n",
    "\n",
    "assert struct.calcsize(\"=i\") == 4\n",
    "assert struct.calcsize(\"=ff\") == 8\n",
    "\n",
    "def dump_coords(fp, coords):\n",
    "    fp.write(struct.pack(\"=i\", len(coords)))\n",
    "    for lng, lat in coords:\n",
    "        fp.write(struct.pack(\"=ff\", lat, lng))\n",
    "        \n",
    "def dump_ring(fp, ring):\n",
    "    dump_coords(fp, ring.ring.coords)\n",
    "    fp.write(struct.pack(\"=i\", len(ring.children)))\n",
    "    for child in ring.children:\n",
    "        dump_coords(fp, child.ring.coords)\n",
    "        fp.write(struct.pack(\"=i\", 0))  # zero grandchildren\n",
    "        \n",
    "def dump_ringset(filename, rings):\n",
    "    with gzip.open(filename, \"wb\") as fp:\n",
    "        fp.write(struct.pack(\"=i\", len(rings)))\n",
    "        for ring in rings:\n",
    "            dump_ring(fp, ring)"
   ]
  },
  {
   "cell_type": "code",
   "execution_count": 11,
   "metadata": {
    "collapsed": false
   },
   "outputs": [],
   "source": [
    "dump_ringset(\"/mnt/src/Working/Data/OSM/Processed/poly.bin.gz\", outer_rings)"
   ]
  },
  {
   "cell_type": "code",
   "execution_count": null,
   "metadata": {
    "collapsed": false
   },
   "outputs": [],
   "source": []
  }
 ],
 "metadata": {
  "kernelspec": {
   "display_name": "Python 2",
   "language": "python",
   "name": "python2"
  },
  "language_info": {
   "codemirror_mode": {
    "name": "ipython",
    "version": 2
   },
   "file_extension": ".py",
   "mimetype": "text/x-python",
   "name": "python",
   "nbconvert_exporter": "python",
   "pygments_lexer": "ipython2",
   "version": "2.7.6"
  }
 },
 "nbformat": 4,
 "nbformat_minor": 0
}
